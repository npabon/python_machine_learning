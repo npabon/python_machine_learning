{
 "cells": [
  {
   "cell_type": "markdown",
   "metadata": {},
   "source": [
    "# Custom LINCS random forest"
   ]
  },
  {
   "cell_type": "code",
   "execution_count": 1,
   "metadata": {
    "collapsed": true
   },
   "outputs": [],
   "source": [
    "from sklearn import datasets\n",
    "import numpy as np\n",
    "import matplotlib.pyplot as plt\n",
    "import pandas as pd\n",
    "import scipy"
   ]
  },
  {
   "cell_type": "code",
   "execution_count": 13,
   "metadata": {
    "collapsed": true
   },
   "outputs": [],
   "source": [
    "X, y = datasets.make_classification(n_samples=20000, \n",
    "                                            n_features=36, \n",
    "                                            n_informative=10, \n",
    "                                            n_redundant=6, \n",
    "                                            n_repeated=0, \n",
    "                                            n_classes=2, \n",
    "                                            n_clusters_per_class=2, \n",
    "                                            weights=None, \n",
    "                                            flip_y=0.01, \n",
    "                                            class_sep=1.0, \n",
    "                                            hypercube=True, \n",
    "                                            shift=0.0, \n",
    "                                            scale=1.0, \n",
    "                                            shuffle=True, \n",
    "                                            random_state=1)"
   ]
  },
  {
   "cell_type": "code",
   "execution_count": 14,
   "metadata": {},
   "outputs": [
    {
     "data": {
      "text/plain": [
       "(20000, 36)"
      ]
     },
     "execution_count": 14,
     "metadata": {},
     "output_type": "execute_result"
    }
   ],
   "source": [
    "X.shape"
   ]
  },
  {
   "cell_type": "markdown",
   "metadata": {},
   "source": [
    "We want to randomly remove data from X in order to simulate the missing data from our LINCS classification problem. Basically every sample has **4 metrics x 9 cell lines = 36 total features**. However, not all samples are tested in all cell lines, but we will say that have at minimum data from four cell lines. This should be made a variable. "
   ]
  },
  {
   "cell_type": "code",
   "execution_count": 15,
   "metadata": {
    "collapsed": true
   },
   "outputs": [],
   "source": [
    "# first assign which cell lines each sample was tested in\n",
    "min_n_cells = 4\n",
    "max_n_cells = 9\n",
    "n_cells_ = np.random.randint(min_n_cells, max_n_cells, len(y))\n",
    "n_missing_cells_ = 9 - n_cells_"
   ]
  },
  {
   "cell_type": "code",
   "execution_count": 16,
   "metadata": {
    "collapsed": true
   },
   "outputs": [],
   "source": [
    "# remove features from each sample's missing cell lines\n",
    "X_df = pd.DataFrame(X).copy()\n",
    "\n",
    "for index in range(len(X)):\n",
    "    n_missing_cells = n_missing_cells_[index]\n",
    "    \n",
    "    # randomly choose which cells lines are mising\n",
    "    missing_cell_lines = np.random.choice(np.arange(9),n_missing_cells, replace=False)\n",
    "    \n",
    "    # convert this to the missing feature indeces\n",
    "    missing_feature_idx = np.array([ 4*i + np.array([0, 1, 2, 3]) for i in missing_cell_lines ]).reshape(1,-1)[0]\n",
    "    \n",
    "    # remove the feature values\n",
    "    X_df.set_value(index, missing_feature_idx, np.NaN)"
   ]
  },
  {
   "cell_type": "code",
   "execution_count": 17,
   "metadata": {},
   "outputs": [
    {
     "data": {
      "text/html": [
       "<div>\n",
       "<style>\n",
       "    .dataframe thead tr:only-child th {\n",
       "        text-align: right;\n",
       "    }\n",
       "\n",
       "    .dataframe thead th {\n",
       "        text-align: left;\n",
       "    }\n",
       "\n",
       "    .dataframe tbody tr th {\n",
       "        vertical-align: top;\n",
       "    }\n",
       "</style>\n",
       "<table border=\"1\" class=\"dataframe\">\n",
       "  <thead>\n",
       "    <tr style=\"text-align: right;\">\n",
       "      <th></th>\n",
       "      <th>0</th>\n",
       "      <th>1</th>\n",
       "      <th>2</th>\n",
       "      <th>3</th>\n",
       "      <th>4</th>\n",
       "      <th>5</th>\n",
       "      <th>6</th>\n",
       "      <th>7</th>\n",
       "      <th>8</th>\n",
       "      <th>9</th>\n",
       "      <th>...</th>\n",
       "      <th>26</th>\n",
       "      <th>27</th>\n",
       "      <th>28</th>\n",
       "      <th>29</th>\n",
       "      <th>30</th>\n",
       "      <th>31</th>\n",
       "      <th>32</th>\n",
       "      <th>33</th>\n",
       "      <th>34</th>\n",
       "      <th>35</th>\n",
       "    </tr>\n",
       "  </thead>\n",
       "  <tbody>\n",
       "    <tr>\n",
       "      <th>0</th>\n",
       "      <td>1.209149</td>\n",
       "      <td>1.192170</td>\n",
       "      <td>-1.164384</td>\n",
       "      <td>0.484403</td>\n",
       "      <td>-0.456668</td>\n",
       "      <td>1.353219</td>\n",
       "      <td>-1.084165</td>\n",
       "      <td>-0.510960</td>\n",
       "      <td>-1.074072</td>\n",
       "      <td>-0.376052</td>\n",
       "      <td>...</td>\n",
       "      <td>-2.528943</td>\n",
       "      <td>0.326389</td>\n",
       "      <td>-0.818247</td>\n",
       "      <td>1.390160</td>\n",
       "      <td>1.249547</td>\n",
       "      <td>0.664060</td>\n",
       "      <td>-0.308625</td>\n",
       "      <td>-0.476750</td>\n",
       "      <td>-1.852631</td>\n",
       "      <td>-0.192746</td>\n",
       "    </tr>\n",
       "    <tr>\n",
       "      <th>1</th>\n",
       "      <td>-0.724587</td>\n",
       "      <td>0.857552</td>\n",
       "      <td>-0.282390</td>\n",
       "      <td>-0.872162</td>\n",
       "      <td>-1.295439</td>\n",
       "      <td>-1.104565</td>\n",
       "      <td>1.008983</td>\n",
       "      <td>1.783967</td>\n",
       "      <td>NaN</td>\n",
       "      <td>NaN</td>\n",
       "      <td>...</td>\n",
       "      <td>NaN</td>\n",
       "      <td>NaN</td>\n",
       "      <td>-1.027753</td>\n",
       "      <td>1.048833</td>\n",
       "      <td>-1.846904</td>\n",
       "      <td>-0.272547</td>\n",
       "      <td>NaN</td>\n",
       "      <td>NaN</td>\n",
       "      <td>NaN</td>\n",
       "      <td>NaN</td>\n",
       "    </tr>\n",
       "    <tr>\n",
       "      <th>2</th>\n",
       "      <td>NaN</td>\n",
       "      <td>NaN</td>\n",
       "      <td>NaN</td>\n",
       "      <td>NaN</td>\n",
       "      <td>NaN</td>\n",
       "      <td>NaN</td>\n",
       "      <td>NaN</td>\n",
       "      <td>NaN</td>\n",
       "      <td>1.074256</td>\n",
       "      <td>0.497485</td>\n",
       "      <td>...</td>\n",
       "      <td>1.126106</td>\n",
       "      <td>-0.804649</td>\n",
       "      <td>-1.064790</td>\n",
       "      <td>-0.591569</td>\n",
       "      <td>0.717058</td>\n",
       "      <td>-1.076956</td>\n",
       "      <td>2.132901</td>\n",
       "      <td>0.559781</td>\n",
       "      <td>-1.215091</td>\n",
       "      <td>0.669849</td>\n",
       "    </tr>\n",
       "    <tr>\n",
       "      <th>3</th>\n",
       "      <td>NaN</td>\n",
       "      <td>NaN</td>\n",
       "      <td>NaN</td>\n",
       "      <td>NaN</td>\n",
       "      <td>0.123821</td>\n",
       "      <td>1.134245</td>\n",
       "      <td>-4.068682</td>\n",
       "      <td>-0.384080</td>\n",
       "      <td>1.600720</td>\n",
       "      <td>1.042394</td>\n",
       "      <td>...</td>\n",
       "      <td>-7.302279</td>\n",
       "      <td>0.459751</td>\n",
       "      <td>-0.754988</td>\n",
       "      <td>0.204575</td>\n",
       "      <td>-2.347061</td>\n",
       "      <td>1.891265</td>\n",
       "      <td>-4.264726</td>\n",
       "      <td>-1.290770</td>\n",
       "      <td>0.073044</td>\n",
       "      <td>-0.258931</td>\n",
       "    </tr>\n",
       "    <tr>\n",
       "      <th>4</th>\n",
       "      <td>0.847515</td>\n",
       "      <td>-3.265937</td>\n",
       "      <td>-3.784482</td>\n",
       "      <td>-0.851469</td>\n",
       "      <td>-1.244846</td>\n",
       "      <td>0.978361</td>\n",
       "      <td>-0.988202</td>\n",
       "      <td>1.456638</td>\n",
       "      <td>-0.067727</td>\n",
       "      <td>0.233124</td>\n",
       "      <td>...</td>\n",
       "      <td>0.446171</td>\n",
       "      <td>-0.059311</td>\n",
       "      <td>-0.776104</td>\n",
       "      <td>0.527975</td>\n",
       "      <td>-1.371177</td>\n",
       "      <td>0.927110</td>\n",
       "      <td>NaN</td>\n",
       "      <td>NaN</td>\n",
       "      <td>NaN</td>\n",
       "      <td>NaN</td>\n",
       "    </tr>\n",
       "  </tbody>\n",
       "</table>\n",
       "<p>5 rows × 36 columns</p>\n",
       "</div>"
      ],
      "text/plain": [
       "         0         1         2         3         4         5         6   \\\n",
       "0  1.209149  1.192170 -1.164384  0.484403 -0.456668  1.353219 -1.084165   \n",
       "1 -0.724587  0.857552 -0.282390 -0.872162 -1.295439 -1.104565  1.008983   \n",
       "2       NaN       NaN       NaN       NaN       NaN       NaN       NaN   \n",
       "3       NaN       NaN       NaN       NaN  0.123821  1.134245 -4.068682   \n",
       "4  0.847515 -3.265937 -3.784482 -0.851469 -1.244846  0.978361 -0.988202   \n",
       "\n",
       "         7         8         9     ...           26        27        28  \\\n",
       "0 -0.510960 -1.074072 -0.376052    ...    -2.528943  0.326389 -0.818247   \n",
       "1  1.783967       NaN       NaN    ...          NaN       NaN -1.027753   \n",
       "2       NaN  1.074256  0.497485    ...     1.126106 -0.804649 -1.064790   \n",
       "3 -0.384080  1.600720  1.042394    ...    -7.302279  0.459751 -0.754988   \n",
       "4  1.456638 -0.067727  0.233124    ...     0.446171 -0.059311 -0.776104   \n",
       "\n",
       "         29        30        31        32        33        34        35  \n",
       "0  1.390160  1.249547  0.664060 -0.308625 -0.476750 -1.852631 -0.192746  \n",
       "1  1.048833 -1.846904 -0.272547       NaN       NaN       NaN       NaN  \n",
       "2 -0.591569  0.717058 -1.076956  2.132901  0.559781 -1.215091  0.669849  \n",
       "3  0.204575 -2.347061  1.891265 -4.264726 -1.290770  0.073044 -0.258931  \n",
       "4  0.527975 -1.371177  0.927110       NaN       NaN       NaN       NaN  \n",
       "\n",
       "[5 rows x 36 columns]"
      ]
     },
     "execution_count": 17,
     "metadata": {},
     "output_type": "execute_result"
    }
   ],
   "source": [
    "X_df.head()"
   ]
  },
  {
   "cell_type": "markdown",
   "metadata": {},
   "source": [
    "Ok, so now we have a dataset with missing values that mimic the missing data we have in our LINCS dataset. Now we have to construct our custom Random Forest implementation that elegantly handles the missing data."
   ]
  },
  {
   "cell_type": "code",
   "execution_count": 18,
   "metadata": {},
   "outputs": [
    {
     "name": "stdout",
     "output_type": "stream",
     "text": [
      "[8. 5. 6. ... 5. 5. 8.]\n"
     ]
    },
    {
     "data": {
      "text/plain": [
       "4.0"
      ]
     },
     "execution_count": 18,
     "metadata": {},
     "output_type": "execute_result"
    }
   ],
   "source": [
    "X_missing = X_df.values\n",
    "X_not_missing = ~np.isnan(X_missing)\n",
    "num_cells_not_missing = np.count_nonzero(X_not_missing, axis=1) / 4\n",
    "print(num_cells_not_missing)\n",
    "np.min(num_cells_not_missing)"
   ]
  },
  {
   "cell_type": "markdown",
   "metadata": {},
   "source": [
    "### Let's try a classic SKLEARN random forest classifier"
   ]
  },
  {
   "cell_type": "code",
   "execution_count": 20,
   "metadata": {},
   "outputs": [
    {
     "data": {
      "text/plain": [
       "RandomForestClassifier(bootstrap=True, class_weight=None, criterion='gini',\n",
       "            max_depth=None, max_features='auto', max_leaf_nodes=None,\n",
       "            min_impurity_split=1e-07, min_samples_leaf=1,\n",
       "            min_samples_split=2, min_weight_fraction_leaf=0.0,\n",
       "            n_estimators=10, n_jobs=-1, oob_score=False, random_state=1,\n",
       "            verbose=0, warm_start=False)"
      ]
     },
     "execution_count": 20,
     "metadata": {},
     "output_type": "execute_result"
    }
   ],
   "source": [
    "from sklearn.ensemble import RandomForestClassifier\n",
    "forest = RandomForestClassifier(criterion='gini',\n",
    "                                n_estimators=10,\n",
    "                                random_state=1,\n",
    "                                n_jobs=-1)\n",
    "forest.fit(X,y)"
   ]
  },
  {
   "cell_type": "code",
   "execution_count": 22,
   "metadata": {},
   "outputs": [
    {
     "data": {
      "text/plain": [
       "[array([1., 0., 0., ..., 1., 0., 0.]),\n",
       " array([0., 0., 0., ..., 1., 0., 0.]),\n",
       " array([0., 1., 0., ..., 1., 0., 0.]),\n",
       " array([0., 0., 0., ..., 1., 0., 0.]),\n",
       " array([0., 0., 0., ..., 1., 0., 0.]),\n",
       " array([0., 0., 0., ..., 1., 0., 0.]),\n",
       " array([0., 0., 0., ..., 0., 0., 0.]),\n",
       " array([0., 0., 0., ..., 1., 0., 0.]),\n",
       " array([0., 0., 0., ..., 1., 0., 0.]),\n",
       " array([0., 0., 0., ..., 1., 0., 1.])]"
      ]
     },
     "execution_count": 22,
     "metadata": {},
     "output_type": "execute_result"
    }
   ],
   "source": [
    "[ tree.predict(X) for tree in forest.estimators_ ]"
   ]
  },
  {
   "cell_type": "markdown",
   "metadata": {
    "collapsed": true
   },
   "source": [
    "## Let's try our own custom forest implementation"
   ]
  },
  {
   "cell_type": "code",
   "execution_count": 23,
   "metadata": {
    "collapsed": true
   },
   "outputs": [],
   "source": [
    "from models import LincsRandomForestClassifier"
   ]
  },
  {
   "cell_type": "code",
   "execution_count": 26,
   "metadata": {},
   "outputs": [],
   "source": [
    "LRF = LincsRandomForestClassifier(n_cells_per_forest=4)\n",
    "LRF.fit(X_missing, y)"
   ]
  },
  {
   "cell_type": "code",
   "execution_count": 28,
   "metadata": {},
   "outputs": [],
   "source": [
    "predictions = LRF.predict_(X_missing)"
   ]
  },
  {
   "cell_type": "code",
   "execution_count": 31,
   "metadata": {},
   "outputs": [
    {
     "data": {
      "text/plain": [
       "19965"
      ]
     },
     "execution_count": 31,
     "metadata": {},
     "output_type": "execute_result"
    }
   ],
   "source": [
    "np.count_nonzero(predictions == y)"
   ]
  },
  {
   "cell_type": "code",
   "execution_count": null,
   "metadata": {
    "collapsed": true
   },
   "outputs": [],
   "source": []
  },
  {
   "cell_type": "code",
   "execution_count": null,
   "metadata": {
    "collapsed": true
   },
   "outputs": [],
   "source": []
  },
  {
   "cell_type": "code",
   "execution_count": null,
   "metadata": {
    "collapsed": true
   },
   "outputs": [],
   "source": []
  },
  {
   "cell_type": "code",
   "execution_count": null,
   "metadata": {
    "collapsed": true
   },
   "outputs": [],
   "source": []
  },
  {
   "cell_type": "code",
   "execution_count": 354,
   "metadata": {
    "collapsed": true
   },
   "outputs": [],
   "source": []
  },
  {
   "cell_type": "code",
   "execution_count": null,
   "metadata": {
    "collapsed": true
   },
   "outputs": [],
   "source": []
  },
  {
   "cell_type": "code",
   "execution_count": null,
   "metadata": {
    "collapsed": true
   },
   "outputs": [],
   "source": []
  }
 ],
 "metadata": {
  "kernelspec": {
   "display_name": "Python 3",
   "language": "python",
   "name": "python3"
  },
  "language_info": {
   "codemirror_mode": {
    "name": "ipython",
    "version": 3
   },
   "file_extension": ".py",
   "mimetype": "text/x-python",
   "name": "python",
   "nbconvert_exporter": "python",
   "pygments_lexer": "ipython3",
   "version": "3.6.1"
  }
 },
 "nbformat": 4,
 "nbformat_minor": 2
}
